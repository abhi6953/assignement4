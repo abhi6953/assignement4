{
 "cells": [
  {
   "cell_type": "code",
   "execution_count": 1,
   "metadata": {},
   "outputs": [],
   "source": [
    "import selenium\n",
    "import pandas as pd\n",
    "import time\n",
    "from bs4 import BeautifulSoup\n",
    "from selenium import webdriver\n",
    "from selenium.common.exceptions import StaleElementReferenceException, NoSuchElementException"
   ]
  },
  {
   "cell_type": "code",
   "execution_count": 2,
   "metadata": {},
   "outputs": [],
   "source": [
    "driver = webdriver.Chrome('C:/chromedriver/chromedriver.exe')"
   ]
  },
  {
   "cell_type": "code",
   "execution_count": 3,
   "metadata": {},
   "outputs": [],
   "source": [
    "driver.get('https://www.bcci.tv/')"
   ]
  },
  {
   "cell_type": "code",
   "execution_count": 4,
   "metadata": {},
   "outputs": [],
   "source": [
    "search=driver.find_element_by_xpath(\"//div[@class='navigation__drop-down drop-down drop-down--reveal-on-hover']\")\n",
    "search.click()"
   ]
  },
  {
   "cell_type": "code",
   "execution_count": 5,
   "metadata": {},
   "outputs": [],
   "source": [
    "formats=driver.find_element_by_id('TestAlexFilter')\n",
    "formats.click()"
   ]
  },
  {
   "cell_type": "code",
   "execution_count": 6,
   "metadata": {},
   "outputs": [],
   "source": [
    "odi=driver.find_element_by_xpath(\"//div[@id='TestAlexFilter']/div/ul/li[4]/span\")\n",
    "odi.click()"
   ]
  },
  {
   "cell_type": "code",
   "execution_count": 21,
   "metadata": {},
   "outputs": [],
   "source": [
    "title=[]\n",
    "place=[]\n",
    "date_time=[]\n",
    "series=[]\n",
    "t_tag=driver.find_elements_by_xpath(\"//strong[@class='fixture__name fixture__name--with-margin']\")\n",
    "len(t_tag)\n",
    "for i in t_tag:\n",
    "    title.append(i.text)\n",
    "    \n",
    "p_tag=driver.find_elements_by_xpath(\"//p[@class='fixture__additional-info']\")\n",
    "for i in p_tag:\n",
    "    place.append(i.text)\n",
    "\n",
    "d_tag=driver.find_elements_by_xpath(\"//div[@class='fixture__datetime desktop-only']\")\n",
    "for i in d_tag:\n",
    "    date_time.append(i.text)\n",
    "    \n",
    "s_tag=driver.find_elements_by_xpath(\"//div[@class='fixture__teams']\")\n",
    "for i in s_tag:\n",
    "    series.append(i.text)"
   ]
  },
  {
   "cell_type": "code",
   "execution_count": 23,
   "metadata": {},
   "outputs": [
    {
     "data": {
      "text/html": [
       "<div>\n",
       "<style scoped>\n",
       "    .dataframe tbody tr th:only-of-type {\n",
       "        vertical-align: middle;\n",
       "    }\n",
       "\n",
       "    .dataframe tbody tr th {\n",
       "        vertical-align: top;\n",
       "    }\n",
       "\n",
       "    .dataframe thead th {\n",
       "        text-align: right;\n",
       "    }\n",
       "</style>\n",
       "<table border=\"1\" class=\"dataframe\">\n",
       "  <thead>\n",
       "    <tr style=\"text-align: right;\">\n",
       "      <th></th>\n",
       "      <th>TITLE</th>\n",
       "      <th>PLACE</th>\n",
       "      <th>DATE &amp; TIME</th>\n",
       "      <th>SERIES</th>\n",
       "    </tr>\n",
       "  </thead>\n",
       "  <tbody>\n",
       "    <tr>\n",
       "      <th>0</th>\n",
       "      <td>1st ODI</td>\n",
       "      <td>1st ODI\\nMaharashtra Cricket Association Stadi...</td>\n",
       "      <td>Tuesday\\n23\\nMARCH\\n13:30 IST</td>\n",
       "      <td>INDIA\\nv\\nENGLAND</td>\n",
       "    </tr>\n",
       "    <tr>\n",
       "      <th>1</th>\n",
       "      <td>2nd ODI</td>\n",
       "      <td>2nd ODI\\nMaharashtra Cricket Association Stadi...</td>\n",
       "      <td>Friday\\n26\\nMARCH\\n13:30 IST</td>\n",
       "      <td>INDIA\\nv\\nENGLAND</td>\n",
       "    </tr>\n",
       "    <tr>\n",
       "      <th>2</th>\n",
       "      <td>3rd ODI</td>\n",
       "      <td>3rd ODI\\nMaharashtra Cricket Association Stadi...</td>\n",
       "      <td>Sunday\\n28\\nMARCH\\n13:30 IST</td>\n",
       "      <td>INDIA\\nv\\nENGLAND</td>\n",
       "    </tr>\n",
       "  </tbody>\n",
       "</table>\n",
       "</div>"
      ],
      "text/plain": [
       "     TITLE                                              PLACE  \\\n",
       "0  1st ODI  1st ODI\\nMaharashtra Cricket Association Stadi...   \n",
       "1  2nd ODI  2nd ODI\\nMaharashtra Cricket Association Stadi...   \n",
       "2  3rd ODI  3rd ODI\\nMaharashtra Cricket Association Stadi...   \n",
       "\n",
       "                     DATE & TIME             SERIES  \n",
       "0  Tuesday\\n23\\nMARCH\\n13:30 IST  INDIA\\nv\\nENGLAND  \n",
       "1   Friday\\n26\\nMARCH\\n13:30 IST  INDIA\\nv\\nENGLAND  \n",
       "2   Sunday\\n28\\nMARCH\\n13:30 IST  INDIA\\nv\\nENGLAND  "
      ]
     },
     "execution_count": 23,
     "metadata": {},
     "output_type": "execute_result"
    }
   ],
   "source": [
    "match = {}\n",
    "match['TITLE'] = title\n",
    "match['PLACE'] = place\n",
    "match['DATE & TIME'] = date_time\n",
    "match['SERIES'] = series\n",
    "pd.DataFrame(match)"
   ]
  },
  {
   "cell_type": "code",
   "execution_count": null,
   "metadata": {},
   "outputs": [],
   "source": []
  },
  {
   "cell_type": "code",
   "execution_count": null,
   "metadata": {},
   "outputs": [],
   "source": []
  },
  {
   "cell_type": "code",
   "execution_count": null,
   "metadata": {},
   "outputs": [],
   "source": []
  },
  {
   "cell_type": "code",
   "execution_count": null,
   "metadata": {},
   "outputs": [],
   "source": []
  }
 ],
 "metadata": {
  "kernelspec": {
   "display_name": "Python 3",
   "language": "python",
   "name": "python3"
  },
  "language_info": {
   "codemirror_mode": {
    "name": "ipython",
    "version": 3
   },
   "file_extension": ".py",
   "mimetype": "text/x-python",
   "name": "python",
   "nbconvert_exporter": "python",
   "pygments_lexer": "ipython3",
   "version": "3.8.3"
  }
 },
 "nbformat": 4,
 "nbformat_minor": 4
}
