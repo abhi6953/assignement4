{
 "cells": [
  {
   "cell_type": "code",
   "execution_count": 1,
   "metadata": {},
   "outputs": [],
   "source": [
    "import selenium\n",
    "from selenium import webdriver\n",
    "import pandas as pd\n",
    "from selenium.common.exceptions import StaleElementReferenceException, NoSuchElementException\n",
    "import time"
   ]
  },
  {
   "cell_type": "code",
   "execution_count": 2,
   "metadata": {},
   "outputs": [],
   "source": [
    "driver = webdriver.Chrome(executable_path='C:/chromedriver/chromedriver.exe')"
   ]
  },
  {
   "cell_type": "code",
   "execution_count": 3,
   "metadata": {},
   "outputs": [],
   "source": [
    "driver.get('https://en.wikipedia.org/wiki/List_of_most-viewed_YouTube_videos')\n",
    "time.sleep(3)"
   ]
  },
  {
   "cell_type": "code",
   "execution_count": null,
   "metadata": {},
   "outputs": [],
   "source": []
  },
  {
   "cell_type": "code",
   "execution_count": 5,
   "metadata": {},
   "outputs": [
    {
     "name": "stdout",
     "output_type": "stream",
     "text": [
      "heading: No.\n",
      "heading: Video name\n",
      "heading: Uploader\n",
      "heading: Views (billions)\n",
      "heading: Upload date\n"
     ]
    }
   ],
   "source": [
    "headingrank=driver.find_element_by_xpath(\"//div[@id='mw-content-text']/div[1]/table[3]/thead/tr/th[1]\")\n",
    "print('heading:',headingrank.text)\n",
    "headingvideoname=driver.find_element_by_xpath(\"//div[@id='mw-content-text']/div[1]/table[3]/thead/tr/th[2]\")\n",
    "print('heading:',headingvideoname.text)\n",
    "headinguploader=driver.find_element_by_xpath(\"//div[@id='mw-content-text']/div[1]/table[3]/thead/tr/th[3]\")\n",
    "print('heading:',headinguploader.text)\n",
    "headingviews=driver.find_element_by_xpath(\"//div[@id='mw-content-text']/div[1]/table[3]/thead/tr/th[4]\")\n",
    "print('heading:',headingviews.text)\n",
    "headingdate=driver.find_element_by_xpath(\"//div[@id='mw-content-text']/div[1]/table[3]/thead/tr/th[5]\")\n",
    "print('heading:',headingdate.text)"
   ]
  },
  {
   "cell_type": "code",
   "execution_count": 7,
   "metadata": {},
   "outputs": [
    {
     "ename": "SyntaxError",
     "evalue": "invalid syntax (<ipython-input-7-ae102749d718>, line 8)",
     "output_type": "error",
     "traceback": [
      "\u001b[1;36m  File \u001b[1;32m\"<ipython-input-7-ae102749d718>\"\u001b[1;36m, line \u001b[1;32m8\u001b[0m\n\u001b[1;33m    nana=driver.find_element_by_xpath(\"//div[@class=\"mw-redirect\"]/div[1]/table[3]/tbody/tr[1]/td[2]/a\")\u001b[0m\n\u001b[1;37m                                                     ^\u001b[0m\n\u001b[1;31mSyntaxError\u001b[0m\u001b[1;31m:\u001b[0m invalid syntax\n"
     ]
    }
   ],
   "source": [
    "names=driver.find_elements_by_xpath(\"//div[@id='mw-content-text']/div[1]/table[3]/tbody/tr[1]/td[2]/a\")\n",
    "driver.get(names.get_attribute('href'))\n",
    "rank= []\n",
    "name = []\n",
    "uploader= []\n",
    "views = []\n",
    "upload_date = []\n",
    "nana=driver.find_element_by_xpath(\"//div[@class=\"mw-redirect\"]/div[1]/table[3]/tbody/tr[1]/td[2]/a\")"
   ]
  },
  {
   "cell_type": "markdown",
   "metadata": {},
   "source": [
    "i am not able to put the fields under it as all items contaion different classes or href with different id's"
   ]
  },
  {
   "cell_type": "code",
   "execution_count": null,
   "metadata": {},
   "outputs": [],
   "source": []
  }
 ],
 "metadata": {
  "kernelspec": {
   "display_name": "Python 3",
   "language": "python",
   "name": "python3"
  },
  "language_info": {
   "codemirror_mode": {
    "name": "ipython",
    "version": 3
   },
   "file_extension": ".py",
   "mimetype": "text/x-python",
   "name": "python",
   "nbconvert_exporter": "python",
   "pygments_lexer": "ipython3",
   "version": "3.8.3"
  }
 },
 "nbformat": 4,
 "nbformat_minor": 4
}
